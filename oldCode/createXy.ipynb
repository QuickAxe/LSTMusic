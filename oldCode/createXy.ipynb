{
 "cells": [
  {
   "cell_type": "markdown",
   "metadata": {},
   "source": [
    "Code to create X and y from the combined numpy array"
   ]
  },
  {
   "cell_type": "code",
   "execution_count": 1,
   "metadata": {},
   "outputs": [],
   "source": [
    "import numpy as np "
   ]
  },
  {
   "cell_type": "code",
   "execution_count": 2,
   "metadata": {},
   "outputs": [],
   "source": [
    "data = np.load(\"./combinedMusicData.npy\")"
   ]
  },
  {
   "cell_type": "code",
   "execution_count": 15,
   "metadata": {},
   "outputs": [],
   "source": [
    "\n",
    "#! too slow, doesnt fit in memory\n",
    "# Needs BIG optimizations \n",
    "# def dataToXy(dataset, windowSize):\n",
    "#     X=[]\n",
    "#     y = []\n",
    "#     for i in range(len(dataset) - windowSize):\n",
    "#         row = [[a] for a in dataset[i:(i+windowSize)]]\n",
    "#         X.append(row)\n",
    "#         y.append(dataset[windowSize+i])\n",
    "    \n",
    "#     return np.array(X), np.array(y)\n",
    "\n",
    "\n",
    "def dataToXy(dataset, windowSize):\n",
    "    \n",
    "    with open(\"X.csv\", \"ab\") as Xfile, open(\"y.csv\", \"ab\") as y:\n",
    "        for i in range(len(dataset) - windowSize):\n",
    "            \n",
    "            row = [a for a in dataset[i : ( i + windowSize )]]\n",
    "            \n",
    "            # print(row)\n",
    "            # print(dataset[windowSize + i])\n",
    "            \n",
    "            np.savetxt(Xfile, row, newline=\", \")\n",
    "            Xfile.write(b\"\\n\")\n",
    "            np.savetxt(y, [dataset[windowSize + i]])\n",
    "            # y.write(b\"\\n\")\n",
    "\n",
    "\n"
   ]
  },
  {
   "cell_type": "code",
   "execution_count": null,
   "metadata": {},
   "outputs": [],
   "source": [
    "dataToXy(data, 22050)"
   ]
  },
  {
   "cell_type": "code",
   "execution_count": null,
   "metadata": {},
   "outputs": [],
   "source": []
  }
 ],
 "metadata": {
  "kernelspec": {
   "display_name": "myEnv",
   "language": "python",
   "name": "python3"
  },
  "language_info": {
   "codemirror_mode": {
    "name": "ipython",
    "version": 3
   },
   "file_extension": ".py",
   "mimetype": "text/x-python",
   "name": "python",
   "nbconvert_exporter": "python",
   "pygments_lexer": "ipython3",
   "version": "3.10.7"
  }
 },
 "nbformat": 4,
 "nbformat_minor": 2
}
