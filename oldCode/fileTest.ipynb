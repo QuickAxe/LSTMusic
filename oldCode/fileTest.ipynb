{
 "cells": [
  {
   "cell_type": "code",
   "execution_count": 1,
   "metadata": {},
   "outputs": [],
   "source": [
    "import numpy as np\n",
    "a = [1, 2, 3, 4]\n",
    "\n",
    "# with open(\"testFile.txt\", \"+a\") as file:\n",
    "#     file.write(str(a) + \"\\n\")\n",
    "#     file.write(str(a) + \"\\n\")"
   ]
  },
  {
   "cell_type": "code",
   "execution_count": 2,
   "metadata": {},
   "outputs": [],
   "source": [
    "arr = []\n",
    "with open(\"testFile.txt\", \"a+\") as file:\n",
    "    np.savetxt(file, a, newline=\", \")\n",
    "    file.write(\"\\n\")\n",
    "    np.savetxt(file, a, newline=\", \")\n",
    "    file.write(\"\\n\")\n",
    "    np.savetxt(file, a, newline=\", \")\n",
    "    file.write(\"\\n\")\n"
   ]
  }
 ],
 "metadata": {
  "kernelspec": {
   "display_name": "myEnv",
   "language": "python",
   "name": "python3"
  },
  "language_info": {
   "codemirror_mode": {
    "name": "ipython",
    "version": 3
   },
   "file_extension": ".py",
   "mimetype": "text/x-python",
   "name": "python",
   "nbconvert_exporter": "python",
   "pygments_lexer": "ipython3",
   "version": "3.10.7"
  }
 },
 "nbformat": 4,
 "nbformat_minor": 2
}
