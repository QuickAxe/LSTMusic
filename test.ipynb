{
 "cells": [
  {
   "cell_type": "code",
   "execution_count": null,
   "metadata": {},
   "outputs": [],
   "source": [
    "import os\n",
    "import ffmpeg\n",
    "import argparse\n",
    "import tqdm"
   ]
  },
  {
   "cell_type": "code",
   "execution_count": null,
   "metadata": {},
   "outputs": [],
   "source": [
    "filePaths = []\n",
    "for dirpath, _, files in os.walk(\"./AudiophileClassicalMusicCollection\"):\n",
    "    for file in files:\n",
    "        filePaths.append(os.path.join(dirpath, file))\n",
    "\n",
    "print(filePaths, sep=\"\\n\")"
   ]
  },
  {
   "cell_type": "code",
   "execution_count": null,
   "metadata": {},
   "outputs": [],
   "source": [
    "outputFolder = \".\\ClassicalDataset\"\n",
    "inputFolder = \".\\ClassicalMusic\""
   ]
  },
  {
   "cell_type": "code",
   "execution_count": null,
   "metadata": {},
   "outputs": [],
   "source": [
    "\n",
    "paths = os.listdir(\"./ClassicalMusic\")\n",
    "\n",
    "for file in paths:\n",
    "    \n",
    "    output_file = os.path.join(\n",
    "        outputFolder, os.path.splitext(file)[0] + '.mp3')\n",
    "    print(output_file)"
   ]
  },
  {
   "cell_type": "code",
   "execution_count": null,
   "metadata": {},
   "outputs": [],
   "source": [
    "from pydub import AudioSegment"
   ]
  },
  {
   "cell_type": "code",
   "execution_count": null,
   "metadata": {},
   "outputs": [],
   "source": [
    "# Convert FLAC to MP3 using AudioSegment\n",
    "# sound = AudioSegment.from_file(\"./ClassicalMusic/musicFile0.flac\", format='flac')\n",
    "\n",
    "# sound.export(outputFolder, format=\"mp3\", bitrate=\"96k\")\n",
    "\n",
    "AudioSegment.from_file(\"ClassicalMusic\\musicFile0.flac\").export(\"./ClassicalDataset/music0.mp3\", format=\"mp3\")"
   ]
  }
 ],
 "metadata": {
  "kernelspec": {
   "display_name": "myEnv",
   "language": "python",
   "name": "python3"
  },
  "language_info": {
   "codemirror_mode": {
    "name": "ipython",
    "version": 3
   },
   "file_extension": ".py",
   "mimetype": "text/x-python",
   "name": "python",
   "nbconvert_exporter": "python",
   "pygments_lexer": "ipython3",
   "version": "3.10.7"
  }
 },
 "nbformat": 4,
 "nbformat_minor": 2
}
